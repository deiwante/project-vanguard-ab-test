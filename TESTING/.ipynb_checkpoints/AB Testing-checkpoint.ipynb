{
 "cells": [
  {
   "cell_type": "markdown",
   "id": "e5a724e4",
   "metadata": {},
   "source": [
    "# A/B Testing"
   ]
  },
  {
   "cell_type": "markdown",
   "id": "6f64f8a2",
   "metadata": {},
   "source": [
    "# Designing an A/B Test:\n",
    "Define the Goal: Clearly identify the metric you aim to improve (e.g., conversion rate, click-through rate).\n",
    "\n",
    "The goal is to see if the new design leads to a better user experience and higher process completion rates.\n",
    "\n",
    "\n",
    "Choose the Variable: Decide on the change you want to test (e.g., a different call-to-action button color).\n",
    "\n",
    "Vanguard believed that a more intuitive and modern User Interface (UI), coupled with timely in-context prompts (cues, messages, hints, or instructions provided to users directly within the context of their current task or action), could make the online process smoother for clients.\n",
    "\n",
    "\n",
    "Randomize the Audience: Split your audience into two groups, ensuring they are as similar as possible.\n",
    "\n",
    "Control Group: Clients interacted with Vanguard’s traditional online process.\n",
    "Test Group: Clients experienced the new, spruced-up digital interface.\n",
    "\n",
    "\n",
    "\n",
    "Control for External Factors: Ensure no other changes are made during the testing period.\n",
    "Determine Sample Size and Duration: This often requires statistical analysis to ensure the results are significant.\n",
    "\n",
    "An A/B test was set into motion from 3/15/2017 to 6/20/2017 by the team."
   ]
  },
  {
   "cell_type": "markdown",
   "id": "9e31c9c0",
   "metadata": {},
   "source": [
    "# Analyzing A/B Test Results:\n",
    "\n",
    "Collect Data: Track and gather data on how each group interacts with the content.\n",
    "Statistical Analysis: Use statistical tests (e.g., t-test) to determine if the differences observed are statistically significant.\n",
    "Draw Conclusions: If Version B significantly outperforms Version A, consider implementing the change. If not, revert to the original or consider new tests."
   ]
  },
  {
   "cell_type": "markdown",
   "id": "fbfee642",
   "metadata": {},
   "source": [
    "\n",
    "# Common Pitfalls & Challenges:\n",
    "Not Running Tests Long Enough: Results can be misleading if tests are cut short.\n",
    "\n",
    "Multiple Changes at Once: Testing multiple variables can make it unclear which change caused the observed effect.\n",
    "\n",
    "Ignoring Small Results: Even minor improvements can be significant when scaled.\n",
    "\n",
    "Not Accounting for External Factors: Events outside the test (like holidays or promotions) can skew results. \n",
    "There was nothing significant happening in USA or investment world."
   ]
  },
  {
   "cell_type": "code",
   "execution_count": null,
   "id": "81f831cc",
   "metadata": {},
   "outputs": [],
   "source": []
  }
 ],
 "metadata": {
  "kernelspec": {
   "display_name": "Python 3 (ipykernel)",
   "language": "python",
   "name": "python3"
  },
  "language_info": {
   "codemirror_mode": {
    "name": "ipython",
    "version": 3
   },
   "file_extension": ".py",
   "mimetype": "text/x-python",
   "name": "python",
   "nbconvert_exporter": "python",
   "pygments_lexer": "ipython3",
   "version": "3.11.5"
  }
 },
 "nbformat": 4,
 "nbformat_minor": 5
}
