{
 "cells": [
  {
   "cell_type": "markdown",
   "id": "25d7736c-ba17-4aff-b6bb-66eba20fbf4e",
   "metadata": {},
   "source": [
    "# Lab | Data Cleaning and Formatting"
   ]
  },
  {
   "cell_type": "markdown",
   "id": "d1973e9e-8be6-4039-b70e-d73ee0d94c99",
   "metadata": {},
   "source": [
    "In this lab, we will be working with the customer data from an insurance company, which can be found in the CSV file located at the following link: https://raw.githubusercontent.com/data-bootcamp-v4/data/main/file1.csv"
   ]
  },
  {
   "cell_type": "markdown",
   "id": "31b8a9e7-7db9-4604-991b-ef6771603e57",
   "metadata": {},
   "source": [
    "# Challenge 1: Data Cleaning and Formatting"
   ]
  },
  {
   "cell_type": "markdown",
   "id": "81553f19-9f2c-484b-8940-520aff884022",
   "metadata": {},
   "source": [
    "## Exercise 1: Cleaning Column Names"
   ]
  },
  {
   "cell_type": "markdown",
   "id": "3ec42570-52cb-4bf6-a213-3e49322d5e68",
   "metadata": {},
   "source": [
    "To ensure consistency and ease of use, standardize the column names of the dataframe. Start by taking a first look at the dataframe and identifying any column names that need to be modified. Use appropriate naming conventions and make sure that column names are descriptive and informative.\n",
    "\n",
    "*Hint*:\n",
    "- *Column names should be in lower case*\n",
    "- *White spaces in column names should be replaced by `_`*\n",
    "- *`st` could be replaced for `state`*"
   ]
  },
  {
   "cell_type": "code",
   "execution_count": null,
   "id": "5810735c-8056-4442-bbf2-dda38d3e284a",
   "metadata": {},
   "outputs": [],
   "source": [
    "import pandas as pd\n",
    "\n",
    "df = pd.read_csv(\"https://raw.githubusercontent.com/data-bootcamp-v4/data/main/file1.csv\")\n",
    "\n",
    "# Standardize the column names\n",
    "df.columns = df.columns.str.lower().str.replace(\" \", \"_\")\n",
    "\n",
    "\n",
    "# Rename columns for clarity\n",
    "df = df.rename(columns={\n",
    "    \"st\": \"state\"\n",
    "})\n",
    "\n",
    "# Print the resulting DataFrame\n",
    "df.head()"
   ]
  },
  {
   "cell_type": "markdown",
   "id": "9cb501ec-36ff-4589-b872-6252bb150316",
   "metadata": {},
   "source": [
    "## Exercise 2: Cleaning invalid Values"
   ]
  },
  {
   "cell_type": "markdown",
   "id": "3e9d15bf-efca-4471-8227-41b9850e85bd",
   "metadata": {},
   "source": [
    "The dataset contains columns with inconsistent and incorrect values that could affect the accuracy of our analysis. Therefore, we need to clean these columns to ensure that they contain only valid data. \n",
    "\n",
    "Note that this exercise will focus only on cleaning inconsistent values and will not involve handling null values (NaN or None).\n",
    "\n",
    "*Hint*:\n",
    "- *Gender column contains various inconsistent values such as \"F\", \"M\", \"Femal\", \"Male\", \"female\", which need to be standardized, for example, to \"M\" and \"F\".*\n",
    "- *State abbreviations can replaced with its full name, for example \"AZ\": \"Arizona\", \"Cali\": \"California\", \"WA\": \"Washington\"*\n",
    "- *In education, \"Bachelors\" could be replaced by \"Bachelor\"*\n",
    "- *In Customer Lifetime Value, delete the `%` character*\n",
    "- *In vehicle class, \"Sports Car\", \"Luxury SUV\" and \"Luxury Car\" could be replaced by \"Luxury\"*"
   ]
  },
  {
   "cell_type": "code",
   "execution_count": null,
   "id": "3f8ee5cb-50ab-48af-8a9f-9a389804033c",
   "metadata": {},
   "outputs": [],
   "source": [
    "df.state.value_counts()"
   ]
  },
  {
   "cell_type": "code",
   "execution_count": null,
   "id": "1a6d6b1e-96d1-4ab7-b9eb-99cd9eca0c56",
   "metadata": {},
   "outputs": [],
   "source": [
    "# Define a dictionary for each column to map inconsistent values to consistent ones\n",
    "gender_dict ={\"Male\": \"M\", \"female\": \"F\", \"Female\": \"F\", \"Femal\": \"F\"}\n",
    "education_dict = {\"Bachelors\": \"Bachelor\"}\n",
    "\n",
    "# Define a dictionary mapping state abbreviations to state names\n",
    "state_dict = {\"AZ\": \"Arizona\", \"Cali\": \"California\", \"WA\": \"Washington\"}\n",
    "\n",
    "# Create a dictionary to store the column-specific dictionaries\n",
    "column_dicts = {\"gender\": gender_dict, \"education\": education_dict, \"state\": state_dict}\n",
    "\n",
    "# Loop through each column in the dataset and clean the inconsistent values using the corresponding dictionary mapping\n",
    "for col in column_dicts:\n",
    "    df[col] = df[col].replace(column_dicts[col])\n",
    "\n",
    "# Verify that each column contains only consistent values\n",
    "for col in column_dicts:\n",
    "    print(col + \":\", df[col].unique())\n"
   ]
  },
  {
   "cell_type": "code",
   "execution_count": null,
   "id": "bca3c6c0-66d9-4538-88fb-fa1fbf366ba6",
   "metadata": {},
   "outputs": [],
   "source": [
    "# Clean the data in 'Customer Lifetime Value'\n",
    "df['customer_lifetime_value'] = df['customer_lifetime_value'].str.replace('%', '')\n",
    "df['customer_lifetime_value'].head()"
   ]
  },
  {
   "cell_type": "code",
   "execution_count": null,
   "id": "e8c1f870-162c-43cd-9b6b-0ef5399c34a1",
   "metadata": {},
   "outputs": [],
   "source": [
    "luxury = [\"Sports Car\", \"Luxury SUV\", \"Luxury Car\"]\n",
    "df[\"vehicle_class\"] = df[\"vehicle_class\"].apply(lambda x: \"Luxury\" if x in luxury else x)\n",
    "df.vehicle_class.value_counts()"
   ]
  },
  {
   "cell_type": "markdown",
   "id": "85ff78ce-0174-4890-9db3-8048b7d7d2d0",
   "metadata": {},
   "source": [
    "## Exercise 3: Formatting data types"
   ]
  },
  {
   "cell_type": "markdown",
   "id": "b91c2cf8-79a2-4baf-9f65-ff2fb22270bd",
   "metadata": {},
   "source": [
    "The data types of many columns in the dataset appear to be incorrect. This could impact the accuracy of our analysis. To ensure accurate analysis, we need to correct the data types of these columns. Please update the data types of the columns as appropriate. "
   ]
  },
  {
   "cell_type": "markdown",
   "id": "43e5d853-ff9e-43b2-9d92-aef2f78764f3",
   "metadata": {},
   "source": [
    "It is important to note that this exercise does not involve handling null values (NaN or None)."
   ]
  },
  {
   "cell_type": "markdown",
   "id": "52d92246-db3d-401b-b2ee-de61f8d80be1",
   "metadata": {},
   "source": [
    "*Hint*:\n",
    "- *Customer lifetime value should be numeric*\n",
    "- *Number of open complaints has a wrong format, look at the diffrent values it takes with unique() and take the middle value, for example 1/5/00 should be 5. Number of open complaints is a string, remember you can use split() to deal with it and take the number you need. Finally, since it should be numeric, cast the column to be in its proper type.*"
   ]
  },
  {
   "cell_type": "code",
   "execution_count": null,
   "id": "eb8f5991-73e9-405f-bf1c-6b7c589379a9",
   "metadata": {},
   "outputs": [],
   "source": [
    "df.dtypes"
   ]
  },
  {
   "cell_type": "code",
   "execution_count": null,
   "id": "57c6ba90-ae29-4ab3-b6ba-498a73ce2516",
   "metadata": {},
   "outputs": [],
   "source": [
    "# Convert 'Customer Lifetime Value' column to numeric datatype\n",
    "df['customer_lifetime_value'] = pd.to_numeric(df['customer_lifetime_value'], errors='coerce')"
   ]
  },
  {
   "cell_type": "code",
   "execution_count": null,
   "id": "ad1453e6-4525-4ba6-8d4f-8cbb924bd24d",
   "metadata": {},
   "outputs": [],
   "source": [
    "df['number_of_open_complaints'] = df['number_of_open_complaints'].str.split('/').str[1]\n",
    "\n",
    "df[\"number_of_open_complaints\"] = pd.to_numeric(df['number_of_open_complaints'], errors='coerce')\n",
    "df.number_of_open_complaints.value_counts()"
   ]
  },
  {
   "cell_type": "code",
   "execution_count": null,
   "id": "e82646ce-315c-4838-9621-92bb2949cb6c",
   "metadata": {},
   "outputs": [],
   "source": [
    "df.head() #all to integers"
   ]
  },
  {
   "cell_type": "markdown",
   "id": "14c52e28-2d0c-4dd2-8bd5-3476e34fadc1",
   "metadata": {},
   "source": [
    "## Exercise 4: Dealing with Null values"
   ]
  },
  {
   "cell_type": "markdown",
   "id": "73b7e0e7-959a-46cf-bb36-6662c262740f",
   "metadata": {},
   "source": [
    "Identify any columns with null or missing values. Identify how many null values each column has. You can use the isnull() function in pandas to find columns with null values.\n",
    "\n",
    "Decide on a strategy for handling the null values. There are several options, including:\n",
    "\n",
    "- Drop the rows or columns with null values\n",
    "- Fill the null values with a specific value (such as the column mean or median for numerical variables and mode for categorical variables)\n",
    "- Fill the null values with the previous or next value in the column\n",
    "- Fill the null values based on a more complex algorithm or model (we haven't studied this yet)\n",
    "\n",
    "Implement your chosen strategy to handle the null values. You can use the fillna() function in pandas to fill null values or dropna() function to drop null values.\n",
    "\n",
    "Verify that your strategy has successfully handled the null values. You can use the isnull() function again to check if there are still null values in the dataset.\n",
    "\n",
    "Remember to document your process and explain your reasoning for choosing a particular strategy for handling null values. \n",
    "\n",
    "After formatting data types, as a last step, convert all the numeric variables to integers using applymap."
   ]
  },
  {
   "cell_type": "code",
   "execution_count": null,
   "id": "2320a4e4-c889-4d90-8db0-61e4cbaef97e",
   "metadata": {},
   "outputs": [],
   "source": [
    "df.columns[df.isnull().any()]"
   ]
  },
  {
   "cell_type": "code",
   "execution_count": null,
   "id": "de520bac-1078-4f62-af26-9878137950e6",
   "metadata": {},
   "outputs": [],
   "source": [
    "df.isnull().sum()"
   ]
  },
  {
   "cell_type": "code",
   "execution_count": null,
   "id": "10e33111-6040-47ed-a493-6c56d206bf47",
   "metadata": {},
   "outputs": [],
   "source": [
    "# Identify any columns with null or missing values\n",
    "null_cols = df.columns[df.isnull().any()]\n",
    "\n",
    "# Print the columns with null or missing values\n",
    "print(\"Columns with null or missing values:\")\n",
    "print(null_cols)\n",
    "\n",
    "# Separate categorical and numerical variables\n",
    "cat_vars = df.select_dtypes(include=[\"object\"]).columns\n",
    "num_vars = df.select_dtypes(include=[\"float64\", \"int64\"]).columns\n",
    "\n",
    "# Fill null values in categorical variables with the mode\n",
    "for col in null_cols:\n",
    "    if col in cat_vars:\n",
    "        df[col].fillna(df[col].mode()[0], inplace=True)\n",
    "\n",
    "# Fill null values in numerical variables with the mean\n",
    "for col in null_cols:\n",
    "    if col in num_vars:\n",
    "        df[col].fillna(df[col].mean(), inplace=True)\n",
    "\n",
    "        # Verify that all null values have been handled\n",
    "null_cols = df.columns[df.isnull().any()]\n",
    "if len(null_cols) == 0:\n",
    "    print(\"All null values have been successfully handled\")\n",
    "else:\n",
    "    print(\"Null values still exist in the following columns:\")\n",
    "    print(null_cols)\n"
   ]
  },
  {
   "cell_type": "code",
   "execution_count": null,
   "id": "2368a7bd-08c0-4b06-ac81-2a84d9e9cc6e",
   "metadata": {},
   "outputs": [],
   "source": [
    "# Select only the columns that contain numeric values\n",
    "numeric_cols = df.select_dtypes(include=['int64', 'float64']).columns\n",
    "\n",
    "# Convert the numeric values to integers using applymap\n",
    "df[numeric_cols] = df[numeric_cols].applymap(int)\n",
    "\n",
    "df.head()"
   ]
  },
  {
   "cell_type": "markdown",
   "id": "98416351-e999-4156-9834-9b00a311adfa",
   "metadata": {},
   "source": [
    "## Exercise 5: Dealing with duplicates"
   ]
  },
  {
   "cell_type": "markdown",
   "id": "ae35e8e9-4ee4-4e8e-8a5a-c8d270693bb5",
   "metadata": {},
   "source": [
    "Use the .duplicated() method to identify any duplicate rows in the dataframe.\n",
    "\n",
    "Decide on a strategy for handling the duplicates. Options include:\n",
    "- Dropping all duplicate rows\n",
    "- Keeping only the first occurrence of each duplicated row\n",
    "- Keeping only the last occurrence of each duplicated row\n",
    "- Dropping duplicates based on a subset of columns\n",
    "- Dropping duplicates based on a specific column\n",
    "\n",
    "Implement your chosen strategy using the drop_duplicates() function.\n",
    "\n",
    "Verify that your strategy has successfully handled the duplicates by checking for duplicates again using .duplicated().\n",
    "\n",
    "Remember to document your process and explain your reasoning for choosing a particular strategy for handling duplicates.\n",
    "\n",
    "Save the cleaned dataset to a new CSV file.\n",
    "\n",
    "*Hint*: *after dropping duplicates, reset the index to ensure consistency*."
   ]
  },
  {
   "cell_type": "code",
   "execution_count": null,
   "id": "7d595dad-9400-4332-971d-144adb006779",
   "metadata": {},
   "outputs": [],
   "source": [
    "# check for duplicates\n",
    "print(df.duplicated().sum()/df.shape[0])"
   ]
  },
  {
   "cell_type": "code",
   "execution_count": null,
   "id": "2d80882f-6f86-4b76-9f52-c3afcc0aa6f2",
   "metadata": {},
   "outputs": [],
   "source": [
    "# drop duplicates\n",
    "df.drop_duplicates(inplace=True)\n",
    "\n",
    "# reset the index\n",
    "df.reset_index(drop=True, inplace=True)\n",
    "\n",
    "print(df.duplicated().sum()/df.shape[0])"
   ]
  },
  {
   "cell_type": "markdown",
   "id": "72c32c61-095d-42b9-8805-1963779c7f5f",
   "metadata": {},
   "source": [
    "Save the cleaned dataset to a new CSV file for further analysis."
   ]
  },
  {
   "cell_type": "code",
   "execution_count": null,
   "id": "5900b61a-edfd-44fb-b6f9-1b9c4f85ebbe",
   "metadata": {},
   "outputs": [],
   "source": [
    "# Save the cleaned dataset to a new CSV file\n",
    "df.to_csv(\"file1_cleaned.csv\", index=False)"
   ]
  },
  {
   "cell_type": "markdown",
   "id": "091471c7-2088-48ff-83f5-da3cdb397d53",
   "metadata": {},
   "source": [
    "# Bonus: Challenge 2: creating functions on a separate `py` file"
   ]
  },
  {
   "cell_type": "markdown",
   "id": "28c6db8d-2236-4c6e-b3ab-2cfcbf4d4ba1",
   "metadata": {},
   "source": [
    "Put all the data cleaning and formatting steps into functions, and create a main function that performs all the cleaning and formatting. \n",
    "\n",
    "Write these functions in a separate .py file(s). By putting these steps into functions, we can make the code more modular and easier to maintain. "
   ]
  },
  {
   "cell_type": "markdown",
   "id": "2d614dbf-aa78-4c7b-b4d4-dccb3afdf9a3",
   "metadata": {},
   "source": [
    "*Hint: autoreload module is a utility module in Python that allows you to automatically reload modules in the current session when changes are made to the source code. This can be useful in situations where you are actively developing code and want to see the effects of changes you make without having to constantly restart the Python interpreter or Jupyter Notebook kernel.*"
   ]
  },
  {
   "cell_type": "code",
   "execution_count": null,
   "id": "c5a7dbc6-1b8b-4593-971f-0966d869ec14",
   "metadata": {},
   "outputs": [],
   "source": [
    "# Done un cleaning_functions.py"
   ]
  },
  {
   "cell_type": "markdown",
   "id": "80f846bb-3f5e-4ca2-96c0-900728daca5a",
   "metadata": {
    "tags": []
   },
   "source": [
    "# Bonus: Challenge 3: analyzing clean and formated data"
   ]
  },
  {
   "cell_type": "markdown",
   "id": "9021630e-cc90-446c-b5bd-264d6c864207",
   "metadata": {},
   "source": [
    "You have been tasked with analyzing the data to identify potential areas for improving customer retention and profitability. Your goal is to identify customers with a high policy claim amount and a low customer lifetime value.\n",
    "\n",
    "In Pandas Lab, we only looked at high policy claim amounts because we couldn't look into low customer lifetime values. If we tried to do work with that column, we wouldn't have been able to do it because customer lifetime value wasn't clean and in its proper format. So after cleaning and formatting the data, lets get some more interesting insights!\n",
    "\n",
    "Instructions:\n",
    "\n",
    "- Review again the statistics for total claim amount and customer lifetime value to gain an understanding of the data.\n",
    "- To identify potential areas for improving customer retention and profitability, we want to focus on customers with a high policy claim amount and a low customer lifetime value. Consider customers with a high policy claim amount to be those in the top 25% of the total claim amount, and clients with a low customer lifetime value to be those in the bottom 25% of the customer lifetime value. Create a pandas DataFrame object that contains information about customers with a policy claim amount greater than the 75th percentile and a customer lifetime value in the bottom 25th percentile.\n",
    "- Use DataFrame methods to calculate summary statistics about the high policy claim amount and low customer lifetime value data. To do so, select both columns of the dataframe simultaneously and pass it to the .describe() method. This will give you descriptive statistics, such as mean, median, standard deviation, minimum and maximum values for both columns at the same time, allowing you to compare and analyze their characteristics."
   ]
  },
  {
   "cell_type": "code",
   "execution_count": null,
   "id": "211e82b5-461a-4d6f-8a23-4deccb84173c",
   "metadata": {},
   "outputs": [],
   "source": [
    "# Your code here\n",
    "# Look at statistics for total claim amount and customer lifetime value\n",
    "print(\"Total Claim Amount Stats:\\n\", df[\"total_claim_amount\"].describe())\n",
    "print(\"\\nCustomer Lifetime Value Stats:\\n\", df[\"customer_lifetime_value\"].describe())"
   ]
  },
  {
   "cell_type": "code",
   "execution_count": null,
   "id": "99e2dc87-3b2f-4364-b8f6-9ea9b5368b16",
   "metadata": {},
   "outputs": [],
   "source": [
    "# Define threshold values for high claim amount and low customer lifetime value\n",
    "high_claim_amount = df[\"total_claim_amount\"].quantile(0.75)\n",
    "low_customer_lifetime_value = df[\"customer_lifetime_value\"].quantile(0.25)\n",
    "\n",
    "# Filter the data to identify customers with high claim amount and low customer lifetime value\n",
    "df_high_low = df[(df[\"total_claim_amount\"] > high_claim_amount) & (df[\"customer_lifetime_value\"] < low_customer_lifetime_value)]\n",
    "\n",
    "# Calculate summary statistics for the filtered data\n",
    "print(\"\\nSummary Statistics for High Claim Amount and Low Customer Lifetime Value Customers:\")\n",
    "print(df_high_low[[\"total_claim_amount\", \"customer_lifetime_value\"]].describe())"
   ]
  }
 ],
 "metadata": {
  "kernelspec": {
   "display_name": "Python 3 (ipykernel)",
   "language": "python",
   "name": "python3"
  },
  "language_info": {
   "codemirror_mode": {
    "name": "ipython",
    "version": 3
   },
   "file_extension": ".py",
   "mimetype": "text/x-python",
   "name": "python",
   "nbconvert_exporter": "python",
   "pygments_lexer": "ipython3",
   "version": "3.11.5"
  }
 },
 "nbformat": 4,
 "nbformat_minor": 5
}
