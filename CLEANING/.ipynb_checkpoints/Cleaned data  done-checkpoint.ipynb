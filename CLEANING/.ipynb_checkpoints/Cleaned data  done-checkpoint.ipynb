{
 "cells": [
  {
   "cell_type": "markdown",
   "id": "bf07fbbc",
   "metadata": {},
   "source": [
    "# Metadata"
   ]
  },
  {
   "cell_type": "markdown",
   "id": "984e0c89",
   "metadata": {},
   "source": [
    "* **client_id**: Every client’s unique ID.\n",
    "* **variation**: Indicates if a client was part of the experiment.\n",
    "* **visitor_id**: A unique ID for each client-device combination.\n",
    "* **visit_id**: A unique ID for each web visit/session.\n",
    "* **process_step**: Marks each step in the digital process.\n",
    "* **date_time**: Timestamp of each web activity.\n",
    "* **clnt_tenure_yr**: Represents how long the client has been with Vanguard, measured in years.\n",
    "* **clnt_tenure_mnth**: Further breaks down the client’s tenure with Vanguard in months.\n",
    "* **clnt_age**: Indicates the age of the client.\n",
    "* **gendr**: Specifies the client’s gender.\n",
    "* **num_accts**: Denotes the number of accounts the client holds with Vanguard.\n",
    "* **bal**: Gives the total balance spread across all accounts for a particular client.\n",
    "* **calls_6_mnth**: Records the number of times the client reached out over a call in the past six months.\n",
    "* **logons_6_mnth**: Reflects the frequency with which the client logged onto Vanguard’s platform over the last six months."
   ]
  },
  {
   "cell_type": "code",
   "execution_count": null,
   "id": "2253aafc",
   "metadata": {},
   "outputs": [],
   "source": [
    "import pandas as pd\n",
    "import seaborn as sns\n",
    "import matplotlib.pyplot as plt\n",
    "import numpy as np\n",
    "import scipy.stats as st\n",
    "from scipy.stats import ttest_ind\n",
    "from scipy.stats import pearsonr\n",
    "from scipy.stats.contingency import association\n",
    "from scipy import stats\n",
    "import glob\n",
    "from scipy.stats import chi2_contingency\n",
    "from statsmodels.stats.proportion import proportions_ztest"
   ]
  },
  {
   "cell_type": "markdown",
   "id": "f9cf6348",
   "metadata": {},
   "source": [
    "# EDA & Data Cleaning"
   ]
  },
  {
   "cell_type": "markdown",
   "id": "2b837c3d",
   "metadata": {},
   "source": [
    "* Dataset Exploration"
   ]
  },
  {
   "cell_type": "code",
   "execution_count": null,
   "id": "cd56ddf0",
   "metadata": {},
   "outputs": [],
   "source": [
    "df_final_demo = pd.read_csv(\"C:\\\\Users\\\\etsus\\\\Desktop\\\\IRONHACK\\\\PROJECT 5-6 Vanguard\\\\DATA\\\\RAW_DATA\\\\df_final_demo.txt\", sep=\",\")\n",
    "df_final_experiment_clients = pd.read_csv(\"C:\\\\Users\\\\etsus\\\\Desktop\\\\IRONHACK\\\\PROJECT 5-6 Vanguard\\\\DATA\\\\RAW_DATA\\\\df_final_experiment_clients.txt\", sep=\",\")\n",
    "df_final_web_data_pt_1 = pd.read_csv(\"C:\\\\Users\\\\etsus\\\\Desktop\\\\IRONHACK\\\\PROJECT 5-6 Vanguard\\\\DATA\\\\RAW_DATA\\\\df_final_web_data_pt_1.txt\", sep=\",\")\n",
    "df_final_web_data_pt_2 = pd.read_csv(\"C:\\\\Users\\\\etsus\\\\Desktop\\\\IRONHACK\\\\PROJECT 5-6 Vanguard\\\\DATA\\\\RAW_DATA\\\\df_final_web_data_pt_2.txt\", sep=\",\")\n",
    "df = pd.concat([df_final_demo,df_final_web_data_pt_1,df_final_web_data_pt_2], ignore_index=True)\n",
    "df = df.copy()"
   ]
  },
  {
   "cell_type": "code",
   "execution_count": null,
   "id": "774b1bed",
   "metadata": {},
   "outputs": [],
   "source": [
    "df = df.drop(['calls_6_mnth'], axis=1).reset_index()\n",
    "df.columns = df.columns.str.lower()\n",
    "df['gendr'] = df['gendr'].str.replace('X', 'U')\n",
    "df[\"date_time\"] = pd.to_datetime(df[\"date_time\"])\n",
    "df = df.rename(columns={\n",
    "    'clnt_age': 'age',\n",
    "    'gendr':'gender',\n",
    "    'bal': 'balance'\n",
    "})\n",
    "df.dropna(thresh=3, inplace=True)\n",
    "# df.duplicated().sum() # 0"
   ]
  },
  {
   "cell_type": "code",
   "execution_count": null,
   "id": "4e5c361f",
   "metadata": {},
   "outputs": [],
   "source": [
    "df_merged = pd.merge(df, df_final_experiment_clients, on='client_id' )\n",
    "df_merged.reset_index(inplace=True)\n",
    "df.to_csv('cleaned_one.csv')"
   ]
  },
  {
   "cell_type": "code",
   "execution_count": null,
   "id": "17f69f8a",
   "metadata": {},
   "outputs": [],
   "source": [
    "df.hist(figsize=(15, 20), bins=60, xlabelsize=10, ylabelsize=10, color=\"salmon\");"
   ]
  },
  {
   "cell_type": "code",
   "execution_count": null,
   "id": "1a7749cc",
   "metadata": {},
   "outputs": [],
   "source": [
    "df.describe()"
   ]
  },
  {
   "cell_type": "markdown",
   "id": "b7a6a29e",
   "metadata": {},
   "source": [
    "# Client behavior analysis"
   ]
  },
  {
   "cell_type": "markdown",
   "id": "d467163b",
   "metadata": {},
   "source": [
    "* Who are the primary clients using this online process?\n",
    "\n",
    "**Answer:** Average age is 46, equaly female and male users (34% each and 32% Unknown) (Since range of ages is wide I created labels for age groups and years for owned accounts) \n",
    "\n",
    "* Are the primary clients younger or older, new or long-standing?\n",
    "\n",
    "**Answer:**  First I made labels depending on usage time.Primary usage group are 46 year old's using website between 5-10 years"
   ]
  },
  {
   "cell_type": "code",
   "execution_count": null,
   "id": "f76e53e0",
   "metadata": {},
   "outputs": [],
   "source": [
    "average_age = df['age'].mean()\n",
    "median_age = df['age'].median()\n",
    "most_gender = df['gender'].value_counts()\n",
    "total_count = df['gender'].count()\n",
    "percentage_gender = (most_gender / total_count).round(2) * 100\n",
    "#average_age.round(2), percentage_gender\n",
    "bins = [0, 18, 35, 55, 100]\n",
    "labels = ['Underage', 'Young Adult', 'Adult', 'Senior']\n",
    "filtered_age = df['age_group'] = pd.cut(df['age'], bins=bins, labels=labels, right=False)\n",
    "sns.countplot(data=df,palette=\"vlag\", x='gender', hue='age_group')\n",
    "plt.legend(loc='upper center', bbox_to_anchor=(0.5, -0.1), shadow=True, ncol=2)"
   ]
  },
  {
   "cell_type": "code",
   "execution_count": null,
   "id": "8bfbccab",
   "metadata": {},
   "outputs": [],
   "source": [
    "bins = [0, 18, 35, 55, 100]\n",
    "labels = ['Underage', 'Young Adult', 'Adult', 'Senior']\n",
    "filtered_age = df['age_group'] = pd.cut(df['age'], bins=bins, labels=labels, right=False)\n",
    "sns.countplot(data=df,palette=\"vlag\", x='gender', hue='age_group')\n",
    "plt.legend(loc='upper center', bbox_to_anchor=(0.5, -0.1), shadow=True, ncol=2)"
   ]
  },
  {
   "cell_type": "code",
   "execution_count": null,
   "id": "cb090880",
   "metadata": {},
   "outputs": [],
   "source": [
    "bins = [0, 3, 5, 10, 100]\n",
    "labels = ['Under 3', 'Between 3-5', 'Between 5 - 10 ', 'Over 10']\n",
    "filtered_time_account = df['time_group_by_years'] = pd.cut(df['clnt_tenure_yr'], bins=bins, labels=labels, right=False)\n",
    "sns.countplot(data=df,palette=\"vlag\", x='time_group_by_years', hue='age_group')\n",
    "plt.legend(loc='upper center', bbox_to_anchor=(0.5, -0.1), shadow=True, ncol=2)"
   ]
  },
  {
   "cell_type": "markdown",
   "id": "c7c8f75d",
   "metadata": {},
   "source": [
    "* Next, carry out a client behaviour analysis to answer any additional relevant questions you think are important.\n",
    "\n",
    "**Answer:** There is a tendency to have more than one account for a client. Results show that mostly extra accounts are created by adults and seniors, creating assumption that website design can be too difficult \n",
    "or requirements for password too hard or simply more guidance needed for multiple accounts."
   ]
  },
  {
   "cell_type": "code",
   "execution_count": null,
   "id": "3a4d9eaf",
   "metadata": {},
   "outputs": [],
   "source": [
    "frequency_table = df['num_accts'].value_counts()\n",
    "proportion_table = df['num_accts'].value_counts(normalize=True)\n",
    "#display(frequency_table, proportion_table*100)\n",
    "\n",
    "df['num_accts'] = pd.to_numeric(df['num_accts'], errors='coerce')\n",
    "bins = [0,2, 3, 4, 5, 10]\n",
    "labels = ['1-2', '3', '4', '5','Over 5']\n",
    "number_of_accounts = df['account_amount'] = pd.cut(df['num_accts'], bins=bins, labels=labels, right=False)\n",
    "sns.countplot(data=df,palette=\"vlag\", hue='age_group', x='account_amount')\n",
    "plt.legend(loc='upper center', bbox_to_anchor=(0.5, -0.1), shadow=True, ncol=2)"
   ]
  },
  {
   "cell_type": "markdown",
   "id": "7e22e130",
   "metadata": {},
   "source": [
    "Next, carry out a client behaviour analysis to answer any additional relevant questions you think are important.\n",
    "\n",
    "**Answer:** We have information of clients account balance and it shows that 66% of clients have less than 100000 in their total balance, which shows that more than half of the users are smaller investers.\n",
    "**Skewness:** The positive value of skewness (11.16) for the 'balance' indicates that the distribution is right-skewed. This means that the tail on the right side (higher balance) is longer than the left side (lower balance). In practical terms, this suggests that there are a significant number of accounts with higher balance.\n",
    "**Kurtosis:** The kurtosis value of 278.20 is way greater than 3, which indicates that the 'balance' distribution has  more outliers (extreme values)."
   ]
  },
  {
   "cell_type": "code",
   "execution_count": null,
   "id": "3df945f9",
   "metadata": {},
   "outputs": [],
   "source": [
    "skewness_balance = df['balance'].skew()\n",
    "kurtosis_balance  = df['balance'].kurtosis()\n",
    "# skewness_balance , kurtosis_balance \n",
    "bins = [0, 100000, 200000, 300000, df['balance'].max()]\n",
    "labels = ['Low', 'Medium', 'High', 'Very High']\n",
    "df['balance_category'] = pd.cut(df['balance'], bins=bins, labels=labels, include_lowest=True)\n",
    "#df.balance_category.value_counts()\n",
    "most_balance = df.balance_category.value_counts()\n",
    "total_count_balance = df.balance_category.count()\n",
    "percentage_balance = (most_balance / total_count_balance).round(2) * 100\n",
    "#percentage_balance\n",
    "sns.boxplot(data = df['balance'], color=\"salmon\")"
   ]
  },
  {
   "cell_type": "markdown",
   "id": "6c21114c",
   "metadata": {},
   "source": [
    "# Performance Metrics\n",
    "\n",
    "\n",
    "Success Indicators\n",
    "\n",
    "**Completion Rate:**\n",
    "\n",
    "**Answer:**\n",
    "\n",
    "* Total completion rate 12% (11,64%)\n",
    "* Total completion of testing group 69% (69.29%)\n",
    "* Total completion of control group 66% (66.58%)"
   ]
  },
  {
   "cell_type": "code",
   "execution_count": null,
   "id": "0abcceb7",
   "metadata": {},
   "outputs": [],
   "source": [
    "sorting_columns = ['client_id', 'visitor_id', 'visit_id', 'date_time', 'process_step']\n",
    "missing_values_sorting = df_merged[sorting_columns].isnull().sum()\n",
    "#print(missing_values_sorting)  70595 missing in visitor_id/visit_id/date_time/process_step\n",
    "df_merged[sorting_columns].isnull().sum()\n",
    "df_merged.dropna(subset=['visitor_id'], inplace=True)\n",
    "df_merged.reset_index(drop=True, inplace=True)"
   ]
  },
  {
   "cell_type": "code",
   "execution_count": null,
   "id": "7660e6e3",
   "metadata": {},
   "outputs": [],
   "source": [
    "proportion_table_confirm = (df_merged['process_step'] == 'confirm').value_counts(normalize=True)\n",
    "control_completion_rate = df_merged[(df_merged['Variation'] == 'Control') & (df_merged['process_step'] == 'confirm')]['client_id'].nunique() / df_merged[df_merged['Variation'] == 'Control']['client_id'].nunique()\n",
    "test_completion_rate = df_merged[(df_merged['Variation'] == 'Test') & (df_merged['process_step'] == 'confirm')]['client_id'].nunique() / df_merged[df_merged['Variation'] == 'Test']['client_id'].nunique()\n"
   ]
  },
  {
   "cell_type": "markdown",
   "id": "4a50e974",
   "metadata": {},
   "source": [
    "Time Spent on Each Step:"
   ]
  },
  {
   "cell_type": "code",
   "execution_count": null,
   "id": "e2ddaed2",
   "metadata": {},
   "outputs": [],
   "source": [
    "df = df.sort_values(by=['visit_id', 'date_time'])\n",
    "df['time_spent'] = df.groupby('visit_id')['date_time'].diff()\n",
    "time_spent_average = df.groupby('process_step')['time_spent'].mean()\n",
    "time_spent_average = time_spent_average.astype(str).str.extract(r'(\\d+ days )?(\\d+:\\d+:\\d+)')[1]\n",
    "print(time_spent_average)"
   ]
  },
  {
   "cell_type": "code",
   "execution_count": null,
   "id": "cca149f3",
   "metadata": {},
   "outputs": [],
   "source": [
    "df_merged['date_time'] = pd.to_datetime(df_merged['date_time'])\n",
    "df_merged_sorted = df_merged.sort_values(by=['visit_id', 'date_time'])\n",
    "df_merged_sorted['time_spent'] = df_merged_sorted.groupby('visit_id')['date_time'].diff()\n",
    "time_spent_average_by_group = df_merged_sorted.groupby(['Variation', 'process_step'])['time_spent'].mean()\n",
    "time_spent_average_by_group = time_spent_average_by_group.astype(str).str.extract(r'(\\d+ days )?(\\d+:\\d+:\\d+)')[1]\n",
    "print(time_spent_average_by_group)"
   ]
  },
  {
   "cell_type": "markdown",
   "id": "9089137c",
   "metadata": {},
   "source": [
    "**Error Rates**"
   ]
  },
  {
   "cell_type": "markdown",
   "id": "b201abc0",
   "metadata": {},
   "source": [
    "Count occurrences of backward movements as errors:\n",
    "\n",
    "**Answer:** Mostly users step back from step 1 on average and also in Test and control groups."
   ]
  },
  {
   "cell_type": "code",
   "execution_count": null,
   "id": "8f1bc0b7",
   "metadata": {
    "scrolled": true
   },
   "outputs": [],
   "source": [
    "backward_movements = ['step_1', 'step_2', 'step_3']\n",
    "errors_count = df_merged[df_merged['process_step'].isin(backward_movements)] \\\n",
    "    .groupby(['Variation', 'process_step']) \\\n",
    "    .size() \\\n",
    "    .reset_index(name='count')\n",
    "print(errors_count)"
   ]
  },
  {
   "cell_type": "markdown",
   "id": "9c047f73",
   "metadata": {},
   "source": [
    "## Redesign Outcome"
   ]
  },
  {
   "cell_type": "markdown",
   "id": "dc02ff8b",
   "metadata": {},
   "source": [
    "Based on the chosen KPIs, how does the new design’s performance compare to the old one?\n",
    "\n",
    "**Answer:** Completion rat, time per steps and errors do not show significant improvemnt from test group, in fact completion rate is only 3% better and errors are more frequent in a test group."
   ]
  },
  {
   "cell_type": "markdown",
   "id": "e335a775",
   "metadata": {},
   "source": [
    "# Hypothesis Testing\n",
    "\n",
    "Completion Rate"
   ]
  },
  {
   "cell_type": "markdown",
   "id": "ca41388b",
   "metadata": {},
   "source": [
    "* **HO : completion rate of a test group == completion rate of a control group** \n",
    "    \n",
    "* **HA : completion rate of a test group != completion rate of a control group**\n",
    "\n",
    "**Answer:**\n",
    "Strong evidence against null hypothesis, leading to rejection of it. A coefficient of -0.55 suggests a weak negative linear relationship between Control and Test groups. \n",
    "**Chi-square test** shows there is a significant association."
   ]
  },
  {
   "cell_type": "code",
   "execution_count": null,
   "id": "cd387663",
   "metadata": {},
   "outputs": [],
   "source": [
    "#significance level = 0.05\n",
    "confirm_count_control = df_merged[(df_merged['Variation'] == 'Control') & \n",
    "                                  (df_merged['process_step'] == 'confirm')]['client_id'].nunique()\n",
    "confirm_count_test = df_merged[(df_merged['Variation'] == 'Test') & \n",
    "                               (df_merged['process_step'] == 'confirm')]['client_id'].nunique()\n",
    "\n",
    "total_control = df_merged[df_merged['Variation'] == 'Control']['client_id'].nunique()\n",
    "total_test = df_merged[df_merged['Variation'] == 'Test']['client_id'].nunique()\n",
    "count = np.array([confirm_count_control, confirm_count_test])\n",
    "nobs = np.array([total_control, total_test])\n",
    "z_stat, p_value = proportions_ztest(count, nobs)\n",
    "print(f'Z-statistic = {z_stat:.3f}; p = {p_value:.3f}')"
   ]
  },
  {
   "cell_type": "code",
   "execution_count": null,
   "id": "20cd87e6",
   "metadata": {},
   "outputs": [],
   "source": [
    "crosstab_result = pd.crosstab(df_merged['Variation'] == 'Control', df_merged['Variation'] == 'Test')\n",
    "chi2_statistic, chi2_p_value, _, _ = chi2_contingency(crosstab_result)\n",
    "chi2_statistic, chi2_p_value"
   ]
  },
  {
   "cell_type": "markdown",
   "id": "7ac0b815",
   "metadata": {},
   "source": [
    "Completion Rate with a Cost-Effectiveness Threshold"
   ]
  },
  {
   "cell_type": "markdown",
   "id": "da775e54",
   "metadata": {},
   "source": [
    "* **HO : The completion rate for the Test group <=  Control group increased by 5%.** \n",
    "    \n",
    "* **HA : The completion rate for the Test group > Control group increased by 5%**\n",
    "\n",
    "**Answer:** We reject the null hypotesis,p_value is lower than our significance level."
   ]
  },
  {
   "cell_type": "code",
   "execution_count": null,
   "id": "7bfff87f",
   "metadata": {},
   "outputs": [],
   "source": [
    "# Increases the control group completion rate by 5%\n",
    "increased_control_completion_rate = control_completion_rate + 0.05\n",
    "test_count = round(test_completion_rate * df_merged[df_merged['Variation'] == 'Test']['client_id'].nunique())\n",
    "control_count = round(increased_control_completion_rate * df_merged[df_merged['Variation'] == 'Control']['client_id'].nunique())\n",
    "nobs_test = df_merged[df_merged['Variation'] == 'Test']['client_id'].nunique()\n",
    "nobs_control = df_merged[df_merged['Variation'] == 'Control']['client_id'].nunique()\n",
    "z_stat, p_value = proportions_ztest([test_count, control_count], [nobs_test, nobs_control], alternative='larger')\n",
    "#print(f'Z-statistic = {z_stat:.3f}')   # -3.167\n",
    "#print(f'P-value = {p_value:.3f}')   # 0.999\n",
    "p_value = st.t.sf(abs(t_statistic), n-1)*2 # 0.0\n",
    "if p_value > alpha:\n",
    "    print(\"We are not able to reject the null hypothesis\")\n",
    "else:\n",
    "    print(\"We reject the null hypotesis\")"
   ]
  },
  {
   "cell_type": "markdown",
   "id": "9f90190b",
   "metadata": {},
   "source": [
    "## Design Effectiveness\n",
    "\n",
    "* Was the experiment well-structured?\n",
    "\n",
    "* Were clients randomly and equally divided between the old and new designs?\n",
    "\n",
    "Yes\n",
    "\n",
    "* Were there any biases?\n",
    "\n",
    "* Duration Assessment: Was the timeframe of the experiment (from 3/15/2017 to 6/20/2017) adequate to gather meaningful data and insights?\n",
    "\n",
    "3 full months would seem more suitable to measure. \n",
    "\n",
    "* Additional Data Needs: What other data, if available, could enhance the analysis?\n",
    "\n",
    "Investment purpose/category\n"
   ]
  },
  {
   "cell_type": "code",
   "execution_count": null,
   "id": "44ce1375",
   "metadata": {},
   "outputs": [],
   "source": []
  }
 ],
 "metadata": {
  "kernelspec": {
   "display_name": "Python 3 (ipykernel)",
   "language": "python",
   "name": "python3"
  },
  "language_info": {
   "codemirror_mode": {
    "name": "ipython",
    "version": 3
   },
   "file_extension": ".py",
   "mimetype": "text/x-python",
   "name": "python",
   "nbconvert_exporter": "python",
   "pygments_lexer": "ipython3",
   "version": "3.11.5"
  }
 },
 "nbformat": 4,
 "nbformat_minor": 5
}
