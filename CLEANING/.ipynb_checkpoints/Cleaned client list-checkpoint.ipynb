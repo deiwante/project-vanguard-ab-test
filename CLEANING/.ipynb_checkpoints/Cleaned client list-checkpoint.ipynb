{
 "cells": [
  {
   "cell_type": "code",
   "execution_count": null,
   "id": "a4df53b6",
   "metadata": {},
   "outputs": [],
   "source": [
    "import pandas as pd\n",
    "df_final_experiment_clients = pd.read_csv(\"C:\\\\Users\\\\etsus\\\\Desktop\\\\IRONHACK\\\\PROJECT 5-6 Vanguard\\\\DATA\\\\RAW_DATA\\\\df_final_experiment_clients.txt\", sep=\",\")\n",
    "df = df_final_experiment_clients\n",
    "df['Control'] = df['Variation'] == 'Control'\n",
    "df['Test'] = df['Variation'] == 'Test'\n",
    "df.dropna(subset=['Variation'], inplace=True)\n",
    "df.reset_index(drop=True, inplace=True)\n"
   ]
  },
  {
   "cell_type": "code",
   "execution_count": null,
   "id": "36be7cc8",
   "metadata": {},
   "outputs": [],
   "source": [
    "df.isnull().sum()   "
   ]
  },
  {
   "cell_type": "code",
   "execution_count": null,
   "id": "e2161725",
   "metadata": {},
   "outputs": [],
   "source": [
    "df"
   ]
  },
  {
   "cell_type": "code",
   "execution_count": null,
   "id": "7cacb547",
   "metadata": {},
   "outputs": [],
   "source": [
    "df.to_csv('CLEANED_list_of_clients.csv')"
   ]
  }
 ],
 "metadata": {
  "kernelspec": {
   "display_name": "Python 3 (ipykernel)",
   "language": "python",
   "name": "python3"
  },
  "language_info": {
   "codemirror_mode": {
    "name": "ipython",
    "version": 3
   },
   "file_extension": ".py",
   "mimetype": "text/x-python",
   "name": "python",
   "nbconvert_exporter": "python",
   "pygments_lexer": "ipython3",
   "version": "3.11.5"
  }
 },
 "nbformat": 4,
 "nbformat_minor": 5
}
