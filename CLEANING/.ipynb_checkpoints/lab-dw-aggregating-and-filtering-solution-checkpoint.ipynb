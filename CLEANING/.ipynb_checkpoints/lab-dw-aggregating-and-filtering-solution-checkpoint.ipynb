{
 "cells": [
  {
   "cell_type": "markdown",
   "id": "31969215-2a90-4d8b-ac36-646a7ae13744",
   "metadata": {},
   "source": [
    "# Lab | Data Aggregation and Filtering"
   ]
  },
  {
   "cell_type": "markdown",
   "id": "3641b4aa-79ae-4a51-b7c6-f6b66622b685",
   "metadata": {},
   "source": [
    "In this challenge, we will continue to work with customer data from an insurance company. We will use the dataset called marketing_customer_analysis_clean.csv, which can be found at the following link:\n",
    "\n",
    "https://raw.githubusercontent.com/data-bootcamp-v4/data/main/marketing_customer_analysis_clean.csv\n",
    "\n",
    "This dataset contains information such as customer demographics, policy details, vehicle information, and the customer's response to the last marketing campaign. Our goal is to explore and analyze this data by performing first data cleaning, formatting, and structuring."
   ]
  },
  {
   "cell_type": "code",
   "execution_count": null,
   "id": "449513f4-0459-46a0-a18d-9398d974c9ad",
   "metadata": {},
   "outputs": [],
   "source": [
    "# your code goes here\n",
    "import pandas as pd\n",
    "\n",
    "df = pd.read_csv(\"https://raw.githubusercontent.com/data-bootcamp-v4/data/main/marketing_customer_analysis_clean.csv\")"
   ]
  },
  {
   "cell_type": "markdown",
   "id": "bd39dd68-e86e-4e73-b3fa-ef4a01921b6c",
   "metadata": {},
   "source": [
    "1. Create a new DataFrame that only includes customers who have a total_claim_amount greater than $1,000 and have a response of \"Yes\" to the last marketing campaign. How many customers were there?"
   ]
  },
  {
   "cell_type": "code",
   "execution_count": null,
   "id": "502a21e7-8c1a-424a-8785-ab309833aa1f",
   "metadata": {},
   "outputs": [],
   "source": [
    "# Filter the data to only include customers with a total_claim_amount greater than $1,000 and a response of \"Yes\"\n",
    "high_claim_yes_responses = df[(df['total_claim_amount'] > 1000) & (df['response'] == 'Yes')]\n",
    "high_claim_yes_responses.head(1)"
   ]
  },
  {
   "cell_type": "markdown",
   "id": "0ac1a758-8be8-4379-8f2e-dcb76828a43d",
   "metadata": {},
   "source": [
    "2. Using the original dataframe, analyze the average total_claim_amount by each policy type and gender for customers who have responded \"Yes\" to the last marketing campaign. Write your conclusions."
   ]
  },
  {
   "cell_type": "code",
   "execution_count": null,
   "id": "4921a932-17f2-479f-a60e-e3d2daf118ff",
   "metadata": {},
   "outputs": [],
   "source": [
    "# Filter the data to only include customers who responded \"Yes\"\n",
    "yes_responses = df[df['response'] == 'Yes']\n",
    "\n",
    "# Group the data by policy type and gender and calculate the mean of total_claim_amount\n",
    "yes_responses.groupby(['policy_type', 'gender'])['total_claim_amount'].mean()\n"
   ]
  },
  {
   "cell_type": "markdown",
   "id": "28e03ce0-84d8-4cc4-9ab9-cb4f6142973a",
   "metadata": {},
   "source": [
    "3. Analyze the total number of customers who have policies in each state, and then filter the results to only include states where there are more than 500 customers."
   ]
  },
  {
   "cell_type": "code",
   "execution_count": null,
   "id": "3c77d6b4-2a33-4f62-8ed2-557ae8ce9f38",
   "metadata": {},
   "outputs": [],
   "source": [
    "# Group the data by state and count the number of customers in each group\n",
    "customers_by_state = df.groupby('state')['customer'].count().reset_index()\n",
    "\n",
    "# Filter the data to only include states with more than 100 customers\n",
    "states_over_100_customers = customers_by_state[customers_by_state['customer'] > 500]\n",
    "states_over_100_customers"
   ]
  },
  {
   "cell_type": "markdown",
   "id": "81967dfa-d957-4769-9f9f-e7a8462799cb",
   "metadata": {},
   "source": [
    "4. Find the maximum, minimum, and median customer lifetime value by education level and gender. Write your conclusions."
   ]
  },
  {
   "cell_type": "code",
   "execution_count": 12,
   "id": "cdcf49e8-50cb-47c5-8683-7082e97b6a72",
   "metadata": {},
   "outputs": [
    {
     "data": {
      "text/html": [
       "<div>\n",
       "<style scoped>\n",
       "    .dataframe tbody tr th:only-of-type {\n",
       "        vertical-align: middle;\n",
       "    }\n",
       "\n",
       "    .dataframe tbody tr th {\n",
       "        vertical-align: top;\n",
       "    }\n",
       "\n",
       "    .dataframe thead th {\n",
       "        text-align: right;\n",
       "    }\n",
       "</style>\n",
       "<table border=\"1\" class=\"dataframe\">\n",
       "  <thead>\n",
       "    <tr style=\"text-align: right;\">\n",
       "      <th></th>\n",
       "      <th></th>\n",
       "      <th>max</th>\n",
       "      <th>min</th>\n",
       "      <th>median</th>\n",
       "    </tr>\n",
       "    <tr>\n",
       "      <th>education</th>\n",
       "      <th>gender</th>\n",
       "      <th></th>\n",
       "      <th></th>\n",
       "      <th></th>\n",
       "    </tr>\n",
       "  </thead>\n",
       "  <tbody>\n",
       "    <tr>\n",
       "      <th rowspan=\"2\" valign=\"top\">Bachelor</th>\n",
       "      <th>F</th>\n",
       "      <td>73225.95652</td>\n",
       "      <td>1904.000852</td>\n",
       "      <td>5640.505303</td>\n",
       "    </tr>\n",
       "    <tr>\n",
       "      <th>M</th>\n",
       "      <td>67907.27050</td>\n",
       "      <td>1898.007675</td>\n",
       "      <td>5548.031892</td>\n",
       "    </tr>\n",
       "    <tr>\n",
       "      <th rowspan=\"2\" valign=\"top\">College</th>\n",
       "      <th>F</th>\n",
       "      <td>61850.18803</td>\n",
       "      <td>1898.683686</td>\n",
       "      <td>5623.611187</td>\n",
       "    </tr>\n",
       "    <tr>\n",
       "      <th>M</th>\n",
       "      <td>61134.68307</td>\n",
       "      <td>1918.119700</td>\n",
       "      <td>6005.847375</td>\n",
       "    </tr>\n",
       "    <tr>\n",
       "      <th rowspan=\"2\" valign=\"top\">Doctor</th>\n",
       "      <th>F</th>\n",
       "      <td>44856.11397</td>\n",
       "      <td>2395.570000</td>\n",
       "      <td>5332.462694</td>\n",
       "    </tr>\n",
       "    <tr>\n",
       "      <th>M</th>\n",
       "      <td>32677.34284</td>\n",
       "      <td>2267.604038</td>\n",
       "      <td>5577.669457</td>\n",
       "    </tr>\n",
       "    <tr>\n",
       "      <th rowspan=\"2\" valign=\"top\">High School or Below</th>\n",
       "      <th>F</th>\n",
       "      <td>55277.44589</td>\n",
       "      <td>2144.921535</td>\n",
       "      <td>6039.553187</td>\n",
       "    </tr>\n",
       "    <tr>\n",
       "      <th>M</th>\n",
       "      <td>83325.38119</td>\n",
       "      <td>1940.981221</td>\n",
       "      <td>6286.731006</td>\n",
       "    </tr>\n",
       "    <tr>\n",
       "      <th rowspan=\"2\" valign=\"top\">Master</th>\n",
       "      <th>F</th>\n",
       "      <td>51016.06704</td>\n",
       "      <td>2417.777032</td>\n",
       "      <td>5729.855012</td>\n",
       "    </tr>\n",
       "    <tr>\n",
       "      <th>M</th>\n",
       "      <td>50568.25912</td>\n",
       "      <td>2272.307310</td>\n",
       "      <td>5579.099207</td>\n",
       "    </tr>\n",
       "  </tbody>\n",
       "</table>\n",
       "</div>"
      ],
      "text/plain": [
       "                                     max          min       median\n",
       "education            gender                                       \n",
       "Bachelor             F       73225.95652  1904.000852  5640.505303\n",
       "                     M       67907.27050  1898.007675  5548.031892\n",
       "College              F       61850.18803  1898.683686  5623.611187\n",
       "                     M       61134.68307  1918.119700  6005.847375\n",
       "Doctor               F       44856.11397  2395.570000  5332.462694\n",
       "                     M       32677.34284  2267.604038  5577.669457\n",
       "High School or Below F       55277.44589  2144.921535  6039.553187\n",
       "                     M       83325.38119  1940.981221  6286.731006\n",
       "Master               F       51016.06704  2417.777032  5729.855012\n",
       "                     M       50568.25912  2272.307310  5579.099207"
      ]
     },
     "execution_count": 12,
     "metadata": {},
     "output_type": "execute_result"
    }
   ],
   "source": [
    "df.groupby(['education', 'gender'])['customer_lifetime_value'].agg(['max', 'min', 'median'])"
   ]
  },
  {
   "cell_type": "markdown",
   "id": "a6db1483-c933-456d-befa-452d1735c628",
   "metadata": {},
   "source": [
    "## Bonus"
   ]
  },
  {
   "cell_type": "markdown",
   "id": "a84f35a9-9498-4e13-bd6b-0677a5db2f1e",
   "metadata": {},
   "source": [
    "5. The marketing team wants to analyze the number of policies sold by state and month.\n",
    "\n",
    "Present the data in a table where the months are arranged as columns and the states are arranged as rows."
   ]
  },
  {
   "cell_type": "code",
   "execution_count": null,
   "id": "c51cb888-ba91-4892-8b9d-d2796b08d8fd",
   "metadata": {},
   "outputs": [],
   "source": [
    "# Group the data by state and month and count the number of policies sold\n",
    "grouped = df.groupby(['state', 'month']).size()\n",
    "\n",
    "# Unstack the month index to create a table\n",
    "table = grouped.unstack()\n",
    "\n",
    "table"
   ]
  },
  {
   "cell_type": "markdown",
   "id": "c1a626e4-0ed6-4fa0-b17e-1a36695ce452",
   "metadata": {},
   "source": [
    "6. Display a new DataFrame that contains the number of policies sold by month by state for the top 3 states with the highest number of policies sold.\n",
    "\n",
    "*Hint:* \n",
    "- *To accomplish this, you will first need to group the data by state and month, then count the number of policies sold for each group. Afterwards, you will need to sort the data by the count of policies sold in descending order.*\n",
    "- *Next, you will select the top 3 states with the highest number of policies sold.*\n",
    "- *Finally, you will create a new DataFrame that contains the number of policies sold by month for each of the top 3 states.*"
   ]
  },
  {
   "cell_type": "code",
   "execution_count": null,
   "id": "fffc9d23-0323-4f72-a77d-85254bbb0434",
   "metadata": {},
   "outputs": [],
   "source": [
    "# Group the data by state and month and count the number of policies sold for each group\n",
    "state_month_policies = df.groupby(['state', 'month'])['number_of_policies'].count().reset_index()\n",
    "\n",
    "# Sort the data by the count of policies sold\n",
    "state_month_policies_sorted = state_month_policies.sort_values(by='number_of_policies', ascending=False)\n",
    "\n",
    "# Select the top 3 states with the highest number of policies sold\n",
    "top_states = state_month_policies_sorted['state'].unique()[:3]\n",
    "\n",
    "# Create a new DataFrame that contains the number of policies sold by month for each of the top 5 states\n",
    "top_states_policies = state_month_policies_sorted[state_month_policies_sorted['state'].isin(top_states)]\n",
    "top_states_policies"
   ]
  },
  {
   "cell_type": "markdown",
   "id": "59b59be9-859a-4151-9ec6-8a3e60e5a6f8",
   "metadata": {},
   "source": [
    "7. The marketing team wants to analyze the effect of different marketing channels on the customer response rate.\n",
    "\n",
    "Hint: You can use melt to unpivot the data and create a table that shows the customer response rate (those who responded \"Yes\") by marketing channel."
   ]
  },
  {
   "cell_type": "code",
   "execution_count": null,
   "id": "1f6f56c0-3317-4572-b02e-5e84a04b41b3",
   "metadata": {},
   "outputs": [],
   "source": [
    "df['response'] = df['response'].apply(lambda x: 1 if x=='Yes' else 0) #careful, this line\n",
    "# should only be run once, otherwise, the second time is run every value will be 0\n",
    "\n",
    "# Melt the data to convert columns to rows\n",
    "melted_table = pd.melt(df, id_vars=['sales_channel'], value_vars=['response'])\n",
    "melted_table"
   ]
  },
  {
   "cell_type": "code",
   "execution_count": null,
   "id": "2122393b-bf31-41bb-bc4b-af695dc280cf",
   "metadata": {},
   "outputs": [],
   "source": [
    "# Calculate the response rate by sales channel\n",
    "response_rate_table = melted_table.groupby('sales_channel')['value'].sum().reset_index()\n",
    "response_rate_table"
   ]
  }
 ],
 "metadata": {
  "kernelspec": {
   "display_name": "Python 3 (ipykernel)",
   "language": "python",
   "name": "python3"
  },
  "language_info": {
   "codemirror_mode": {
    "name": "ipython",
    "version": 3
   },
   "file_extension": ".py",
   "mimetype": "text/x-python",
   "name": "python",
   "nbconvert_exporter": "python",
   "pygments_lexer": "ipython3",
   "version": "3.11.5"
  }
 },
 "nbformat": 4,
 "nbformat_minor": 5
}
